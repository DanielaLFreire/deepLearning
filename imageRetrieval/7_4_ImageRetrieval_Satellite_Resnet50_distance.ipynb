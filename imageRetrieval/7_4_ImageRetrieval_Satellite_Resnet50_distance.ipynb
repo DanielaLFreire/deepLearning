{
  "nbformat": 4,
  "nbformat_minor": 0,
  "metadata": {
    "colab": {
      "name": "7_4_ImageRetrieval_Satellite_Resnet50_distance.ipynb",
      "provenance": [],
      "private_outputs": true,
      "collapsed_sections": [],
      "mount_file_id": "15P1-ye6H-JwchTNuDWKz2JIpwPLh8OCM",
      "authorship_tag": "ABX9TyPaZdah8pk6yCMlC03v7W53",
      "include_colab_link": true
    },
    "kernelspec": {
      "name": "python3",
      "display_name": "Python 3"
    },
    "accelerator": "GPU"
  },
  "cells": [
    {
      "cell_type": "markdown",
      "metadata": {
        "id": "view-in-github",
        "colab_type": "text"
      },
      "source": [
        "<a href=\"https://colab.research.google.com/github/mhtefe/deepLearning/blob/master/imageRetrieval/7_4_ImageRetrieval_Satellite_Resnet50_distance.ipynb\" target=\"_parent\"><img src=\"https://colab.research.google.com/assets/colab-badge.svg\" alt=\"Open In Colab\"/></a>"
      ]
    },
    {
      "cell_type": "markdown",
      "metadata": {
        "id": "Zpj9otNpTnbN"
      },
      "source": [
        "Copy data files to local machine"
      ]
    },
    {
      "cell_type": "code",
      "metadata": {
        "id": "9-MfMKTCTS3p"
      },
      "source": [
        "!mkdir WorkData\n",
        "!cp /content/drive/My\\ Drive/MachineLearning/datas/NWPU-RESISC45.rar WorkData/ "
      ],
      "execution_count": null,
      "outputs": []
    },
    {
      "cell_type": "code",
      "metadata": {
        "id": "MRqku0r6UAqs"
      },
      "source": [
        "cd WorkData/"
      ],
      "execution_count": null,
      "outputs": []
    },
    {
      "cell_type": "code",
      "metadata": {
        "id": "yl58VDbkUl2U"
      },
      "source": [
        "!mkdir NWPU"
      ],
      "execution_count": null,
      "outputs": []
    },
    {
      "cell_type": "code",
      "metadata": {
        "id": "YF_pe-YWUFxK"
      },
      "source": [
        "!unrar x \"NWPU-RESISC45.rar\" \"NWPU/\""
      ],
      "execution_count": null,
      "outputs": []
    },
    {
      "cell_type": "code",
      "metadata": {
        "id": "5sx4ssadVP7C"
      },
      "source": [
        "ls"
      ],
      "execution_count": null,
      "outputs": []
    },
    {
      "cell_type": "code",
      "metadata": {
        "id": "eoP86btqVKc5"
      },
      "source": [
        "import os\n",
        "\n",
        "import numpy as np\n",
        "\n",
        "import torch\n",
        "import torch.nn as nn\n",
        "import torchvision\n",
        "\n",
        "from torch.utils.data import Dataset, DataLoader\n",
        "from torchvision import transforms, datasets, models\n",
        "\n",
        "from PIL import Image\n",
        "\n",
        "nwpuRoot = '/content/WorkData/NWPU/NWPU-RESISC45/'\n",
        "\n",
        "def getNWPUData():\n",
        "    list_file = []\n",
        "    list_cate = []\n",
        "    allPaths = list(os.walk(nwpuRoot))[1:]\n",
        "    for element in allPaths:\n",
        "        path, _, files = element\n",
        "        for file in files:\n",
        "            category = path.split('\\\\')[-1] # check this line on linux, looks pretty dummy\n",
        "            imgToLoad = os.path.join(path, file)\n",
        "            \n",
        "            list_file.append(imgToLoad)\n",
        "            list_cate.append(category)\n",
        "    return list_file, list_cate\n",
        "\n",
        "'''\n",
        "lst, ctg = getNWPUData()\n",
        "print(lst)\n",
        "'''"
      ],
      "execution_count": null,
      "outputs": []
    },
    {
      "cell_type": "code",
      "metadata": {
        "id": "hWGM8gm0VtnT"
      },
      "source": [
        "class Categories_NWPU(Dataset):\n",
        "    def __init__(self, transform=None):\n",
        "        self.input_images, self.input_categories = getNWPUData()       \n",
        "        self.transform = transform\n",
        "    \n",
        "    def __len__(self):\n",
        "        return len(self.input_images)\n",
        "    \n",
        "    def __getitem__(self, idx):        \n",
        "        image =  Image.open(self.input_images[idx]).convert('RGB') \n",
        "        \n",
        "        if self.transform:\n",
        "            image = self.transform(image)\n",
        "        \n",
        "        return image, self.input_categories[idx], self.input_images[idx]\n",
        "    \n",
        "normalize = transforms.Normalize(mean=[0.485, 0.456, 0.406],\n",
        "                                 std=[0.229, 0.224, 0.225])\n",
        "transform = transforms.Compose([ transforms.Resize((224,224)),transforms.ToTensor(), normalize ])\n",
        "\n",
        "categ_dataset = Categories_NWPU(transform)"
      ],
      "execution_count": null,
      "outputs": []
    },
    {
      "cell_type": "code",
      "metadata": {
        "id": "ge1082IbV2pM"
      },
      "source": [
        "model = models.resnet50(pretrained=True, progress=True)\n",
        "model.fc = nn.Identity()\n",
        "\n",
        "for param in model.parameters():\n",
        "    param.requires_grad = False   \n",
        "    \n",
        "device = torch.device(\"cuda:0\" if torch.cuda.is_available() else \"cpu\")\n",
        "print(device)\n",
        "\n",
        "model = model.to(device)"
      ],
      "execution_count": null,
      "outputs": []
    },
    {
      "cell_type": "code",
      "metadata": {
        "id": "IfpZrvCkV5qc"
      },
      "source": [
        "batch_size = 32\n",
        "img_loader = torch.utils.data.DataLoader(categ_dataset, batch_size=batch_size, shuffle=False)  # <1>\n",
        "print(len(img_loader.dataset))"
      ],
      "execution_count": null,
      "outputs": []
    },
    {
      "cell_type": "code",
      "metadata": {
        "id": "_2N1BRcvV8iE"
      },
      "source": [
        "all_feats = []\n",
        "total = 0\n",
        "totalData = len(img_loader.dataset)\n",
        "model.eval()\n",
        "\n",
        "for inputs, labels, path in img_loader:\n",
        "  inputs = inputs.to(device)\n",
        "  preds = model(inputs)\n",
        "\n",
        "  aa = preds.cpu().numpy()\n",
        "  all_feats.append(aa)\n",
        "  \n",
        "  total = total + batch_size\n",
        "  print( 100*(total//totalData))\n",
        "\n",
        "all_stack_matrix = np.vstack(all_feats)"
      ],
      "execution_count": null,
      "outputs": []
    },
    {
      "cell_type": "code",
      "metadata": {
        "id": "itTdSlW8YF31"
      },
      "source": [
        "cd .."
      ],
      "execution_count": null,
      "outputs": []
    },
    {
      "cell_type": "code",
      "metadata": {
        "id": "2FXDRyAEXpap"
      },
      "source": [
        "!cp /content/drive/My\\ Drive/MachineLearning/datas/UCMerced_LandUse.zip WorkData/ "
      ],
      "execution_count": null,
      "outputs": []
    },
    {
      "cell_type": "code",
      "metadata": {
        "id": "n8hvCdtwYp7y"
      },
      "source": [
        "cd WorkData/"
      ],
      "execution_count": null,
      "outputs": []
    },
    {
      "cell_type": "code",
      "metadata": {
        "id": "19hWtHQ4X7od"
      },
      "source": [
        "!unzip UCMerced_LandUse.zip > UCMerced"
      ],
      "execution_count": null,
      "outputs": []
    },
    {
      "cell_type": "code",
      "metadata": {
        "id": "_HQ5cErQgAiL"
      },
      "source": [
        "from scipy import spatial\n",
        "import matplotlib.pyplot as plt\n",
        "import matplotlib.image as ima"
      ],
      "execution_count": null,
      "outputs": []
    },
    {
      "cell_type": "code",
      "metadata": {
        "id": "7TIsWLHAZAcH"
      },
      "source": [
        "#filename = 'airplane/airplane00.tif'\n",
        "#filename = 'storagetanks/storagetanks00.tif' # this one is interesting, gives round shapes as output\n",
        "#filename = 'beach/beach00.tif' #this one looks cool\n",
        "#filename = 'baseballdiamond/baseballdiamond03.tif' # this can be a lil bit challenging\n",
        "filename = 'overpass/overpass03.tif' # more challenging\n",
        "#filename = 'freeway/freeway03.tif'\n",
        "#filename = 'agricultural/agricultural08.tif'\n",
        "#filename = 'harbor/harbor08.tif'\n",
        "#filename = 'mediumresidential/mediumresidential08.tif'\n",
        "#filename = 'river/river01.tif'\n",
        "\n",
        "img_path = '/content/WorkData/UCMerced_LandUse/Images/' + filename\n",
        "\n",
        "img = Image.open(img_path).convert('RGB')\n",
        "pilImgT = transform(img)\n",
        "\n",
        "test_features_np = model(pilImgT.unsqueeze(0).to(device)).cpu().numpy()\n",
        "distances =  []\n",
        "for i in all_stack_matrix:\n",
        "  res = spatial.distance.cosine(i, test_features_np)\n",
        "  distances.append(res)\n",
        "\n",
        "distances = np.array(distances)\n",
        "indices = distances.argsort()[:5]\n",
        "\n",
        "fig, axes = plt.subplots(nrows=1, ncols=6, figsize=(25,25) )\n",
        "axes[0].patch.set_edgecolor('green')  \n",
        "axes[0].patch.set_linewidth('10')  \n",
        "axes[0].imshow(ima.imread(img_path), interpolation='lanczos')\n",
        "\n",
        "plt.rcParams[\"axes.edgecolor\"] = 'black'\n",
        "plotnumber = 1\n",
        "for index in indices:\n",
        "      _, _, c = categ_dataset[index]\n",
        "      axes[plotnumber].patch.set_edgecolor('blue')  \n",
        "      axes[plotnumber].patch.set_linewidth('10') \n",
        "      axes[plotnumber].imshow(ima.imread(c), interpolation='lanczos')            \n",
        "      plotnumber+=1\n",
        "\n",
        "plt.show()"
      ],
      "execution_count": null,
      "outputs": []
    },
    {
      "cell_type": "code",
      "metadata": {
        "id": "WxCkNXcs4_jU"
      },
      "source": [
        ""
      ],
      "execution_count": null,
      "outputs": []
    }
  ]
}