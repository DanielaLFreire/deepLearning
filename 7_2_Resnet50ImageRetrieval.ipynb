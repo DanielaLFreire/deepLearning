{
  "nbformat": 4,
  "nbformat_minor": 0,
  "metadata": {
    "colab": {
      "name": "7_2_Resnet50ImageRetrieval.ipynb",
      "provenance": [],
      "private_outputs": true,
      "collapsed_sections": [],
      "mount_file_id": "1Dxd6E8QbVPkdAh3rK4b-9Gc9iExLpG9B",
      "authorship_tag": "ABX9TyMp+ExFgsbXG2vHp+3j3WCD",
      "include_colab_link": true
    },
    "kernelspec": {
      "name": "python3",
      "display_name": "Python 3"
    },
    "accelerator": "GPU"
  },
  "cells": [
    {
      "cell_type": "markdown",
      "metadata": {
        "id": "view-in-github",
        "colab_type": "text"
      },
      "source": [
        "<a href=\"https://colab.research.google.com/github/mhtefe/deepLearning/blob/master/7_2_Resnet50ImageRetrieval.ipynb\" target=\"_parent\"><img src=\"https://colab.research.google.com/assets/colab-badge.svg\" alt=\"Open In Colab\"/></a>"
      ]
    },
    {
      "cell_type": "code",
      "metadata": {
        "id": "O7mmg15oiZ-W",
        "colab_type": "code",
        "colab": {}
      },
      "source": [
        "!mkdir WorkData\n",
        "!cp /content/drive/My\\ Drive/MachineLearning/datas/101_ObjectCategories.tar.gz WorkData/ "
      ],
      "execution_count": null,
      "outputs": []
    },
    {
      "cell_type": "code",
      "metadata": {
        "id": "pfx8Q8uEJvn7",
        "colab_type": "code",
        "colab": {}
      },
      "source": [
        "cd WorkData"
      ],
      "execution_count": null,
      "outputs": []
    },
    {
      "cell_type": "code",
      "metadata": {
        "id": "_iUF6vq9Jzu5",
        "colab_type": "code",
        "colab": {}
      },
      "source": [
        "ls"
      ],
      "execution_count": null,
      "outputs": []
    },
    {
      "cell_type": "code",
      "metadata": {
        "id": "9juacJUPJ3NL",
        "colab_type": "code",
        "colab": {}
      },
      "source": [
        "!tar -xf 101_ObjectCategories.tar.gz"
      ],
      "execution_count": null,
      "outputs": []
    },
    {
      "cell_type": "code",
      "metadata": {
        "id": "e3OknANw0voG",
        "colab_type": "code",
        "colab": {}
      },
      "source": [
        "import os\n",
        "\n",
        "import numpy as np\n",
        "\n",
        "import torch\n",
        "import torch.nn as nn\n",
        "import torchvision\n",
        "\n",
        "from torch.utils.data import Dataset, DataLoader\n",
        "from torchvision import transforms, datasets, models\n",
        "\n",
        "from PIL import Image\n",
        "\n",
        "caltech101Root = '/content/WorkData/101_ObjectCategories/'\n",
        "\n",
        "def get101CategoriesData():\n",
        "    list_file = []\n",
        "    list_cate = []\n",
        "    allPaths = list(os.walk(caltech101Root))[1:]\n",
        "    for element in allPaths:\n",
        "        path, _, files = element\n",
        "        for file in files:\n",
        "            category = path.split('\\\\')[-1] # check this line on linux\n",
        "            imgToLoad = os.path.join(path, file)\n",
        "            \n",
        "            list_file.append(imgToLoad)\n",
        "            list_cate.append(category)\n",
        "    return list_file, list_cate\n",
        "    \n",
        "#%%    "
      ],
      "execution_count": null,
      "outputs": []
    },
    {
      "cell_type": "code",
      "metadata": {
        "id": "YhKnxbzE0_KA",
        "colab_type": "code",
        "colab": {}
      },
      "source": [
        "class Categories_101(Dataset):\n",
        "    def __init__(self, transform=None):\n",
        "        self.input_images, self.input_categories = get101CategoriesData()       \n",
        "        self.transform = transform\n",
        "    \n",
        "    def __len__(self):\n",
        "        return len(self.input_images)\n",
        "    \n",
        "    def __getitem__(self, idx):        \n",
        "        image =  Image.open(self.input_images[idx]).convert('RGB') \n",
        "        \n",
        "        if self.transform:\n",
        "            image = self.transform(image)\n",
        "        \n",
        "        return image, self.input_categories[idx], self.input_images[idx]\n",
        "    \n",
        "normalize = transforms.Normalize(mean=[0.485, 0.456, 0.406],\n",
        "                                 std=[0.229, 0.224, 0.225])\n",
        "transform = transforms.Compose([ transforms.Resize((224,224)),transforms.ToTensor(), normalize ])\n",
        "\n",
        "categ_dataset = Categories_101(transform)"
      ],
      "execution_count": null,
      "outputs": []
    },
    {
      "cell_type": "code",
      "metadata": {
        "id": "k_KhoYu71EqP",
        "colab_type": "code",
        "colab": {}
      },
      "source": [
        "model = models.resnet50(pretrained=True, progress=True)\n",
        "model.fc = nn.Identity()\n",
        "\n",
        "for param in model.parameters():\n",
        "    param.requires_grad = False   \n",
        "    \n",
        "device = torch.device(\"cuda:0\" if torch.cuda.is_available() else \"cpu\")\n",
        "print(device)\n",
        "\n",
        "model = model.to(device)"
      ],
      "execution_count": null,
      "outputs": []
    },
    {
      "cell_type": "code",
      "metadata": {
        "id": "_E0d0R241ehE",
        "colab_type": "code",
        "colab": {}
      },
      "source": [
        "batch_size = 32\n",
        "img_loader = torch.utils.data.DataLoader(categ_dataset, batch_size=batch_size, shuffle=False)  # <1>\n",
        "print(len(img_loader.dataset))"
      ],
      "execution_count": null,
      "outputs": []
    },
    {
      "cell_type": "code",
      "metadata": {
        "id": "oWyFJaql1S8q",
        "colab_type": "code",
        "colab": {}
      },
      "source": [
        "all_feats = []\n",
        "total = 0\n",
        "model.eval()\n",
        "\n",
        "for inputs, labels, path in img_loader:\n",
        "  inputs = inputs.to(device)\n",
        "  preds = model(inputs)\n",
        "\n",
        "  #all_preds.append( preds.cpu().detach().numpy() )\n",
        "  aa = preds.cpu().numpy()\n",
        "  all_feats.append(aa)\n",
        "  \n",
        "  total = total + batch_size\n",
        "  print( 100*(total/8677))\n",
        "\n",
        "all_stack_matrix = np.vstack(all_feats)"
      ],
      "execution_count": null,
      "outputs": []
    },
    {
      "cell_type": "code",
      "metadata": {
        "id": "X1D_gwLoz0jc",
        "colab_type": "code",
        "colab": {}
      },
      "source": [
        "ls"
      ],
      "execution_count": null,
      "outputs": []
    },
    {
      "cell_type": "code",
      "metadata": {
        "id": "gcnBz0GKMcXJ",
        "colab_type": "code",
        "colab": {}
      },
      "source": [
        "!cp /content/drive/My\\ Drive/MachineLearning/datas/256_ObjectCategories.zip WorkData/ "
      ],
      "execution_count": null,
      "outputs": []
    },
    {
      "cell_type": "code",
      "metadata": {
        "id": "utrnk2RghkHT",
        "colab_type": "code",
        "colab": {}
      },
      "source": [
        "cd .."
      ],
      "execution_count": null,
      "outputs": []
    },
    {
      "cell_type": "code",
      "metadata": {
        "id": "H5RSMwozM9Ep",
        "colab_type": "code",
        "colab": {}
      },
      "source": [
        "cd WorkData/"
      ],
      "execution_count": null,
      "outputs": []
    },
    {
      "cell_type": "code",
      "metadata": {
        "id": "PnRsjqg2MeUB",
        "colab_type": "code",
        "colab": {}
      },
      "source": [
        "!unzip 256_ObjectCategories.zip > 256_ObjectCategories"
      ],
      "execution_count": null,
      "outputs": []
    },
    {
      "cell_type": "code",
      "metadata": {
        "id": "VU1f-csV1Zqf",
        "colab_type": "code",
        "colab": {}
      },
      "source": [
        "from sklearn.neighbors import NearestNeighbors\n",
        "import matplotlib.pyplot as plt\n",
        "import matplotlib.image as mpimg\n",
        "\n",
        "n_neighbors = 10\n",
        "neighbors = NearestNeighbors(n_neighbors=n_neighbors,\n",
        "                             algorithm='ball_tree',\n",
        "                             metric='euclidean')\n",
        "neighbors.fit(all_stack_matrix)"
      ],
      "execution_count": null,
      "outputs": []
    },
    {
      "cell_type": "code",
      "metadata": {
        "id": "qZ6R0ixWUxIm",
        "colab_type": "code",
        "colab": {}
      },
      "source": [
        "#filename = '230.trilobite-101'\n",
        "#filename = '012.binoculars'\n",
        "#filename = '007.bat'\n",
        "filename = '001.ak47'\n",
        "#filename = '029.cannon'\n",
        "#filename = '038.chimp'\n",
        "\n",
        "filename = filename + '/' + filename[0:3] + '_0001.jpg'\n",
        "img_path = '/content/WorkData/256_objectcategories/256_ObjectCategories/' + filename\n",
        "\n",
        "img = Image.open(img_path).convert('RGB')\n",
        "pilImgT = transform(img)\n",
        "\n",
        "test_features = model(pilImgT.unsqueeze(0).to(device))\n",
        "test_features_np = test_features.cpu().numpy()\n",
        "\n",
        "_, indices = neighbors.kneighbors(test_features_np)\n",
        "\n",
        "# this part of code is taken from \"somewhere else\", I'll share the reference\n",
        "def similar_images(indices):\n",
        "    plt.figure(figsize=(15,15), facecolor='white')\n",
        "    plotnumber = 1    \n",
        "    for index in indices:\n",
        "        if plotnumber<=len(indices) :\n",
        "            ax = plt.subplot(2,5,plotnumber)\n",
        "            _, _, c = categ_dataset[index]\n",
        "            plt.imshow(mpimg.imread(c), interpolation='lanczos')            \n",
        "            plotnumber+=1\n",
        "    plt.tight_layout()\n",
        "\n",
        "print(indices.shape)\n",
        "\n",
        "plt.imshow(mpimg.imread(img_path), interpolation='lanczos')\n",
        "plt.xlabel(img_path.split('.')[0] + '_Original Image',fontsize=20)\n",
        "plt.show()\n",
        "print('********* Predictions ***********')\n",
        "similar_images(indices[0])"
      ],
      "execution_count": null,
      "outputs": []
    }
  ]
}