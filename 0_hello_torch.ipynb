{
  "nbformat": 4,
  "nbformat_minor": 0,
  "metadata": {
    "colab": {
      "name": "0_hello_torch.ipynb",
      "provenance": [],
      "collapsed_sections": [],
      "authorship_tag": "ABX9TyNMbHO6hPs3rDuotPAl+XrL",
      "include_colab_link": true
    },
    "kernelspec": {
      "name": "python3",
      "display_name": "Python 3"
    }
  },
  "cells": [
    {
      "cell_type": "markdown",
      "metadata": {
        "id": "view-in-github",
        "colab_type": "text"
      },
      "source": [
        "<a href=\"https://colab.research.google.com/github/mhtefe/deepLearning/blob/master/0_hello_torch.ipynb\" target=\"_parent\"><img src=\"https://colab.research.google.com/assets/colab-badge.svg\" alt=\"Open In Colab\"/></a>"
      ]
    },
    {
      "cell_type": "code",
      "metadata": {
        "id": "EMTtKOmgzSf7",
        "colab_type": "code",
        "colab": {
          "base_uri": "https://localhost:8080/",
          "height": 34
        },
        "outputId": "8d7bff11-c318-45f4-bd53-97ef1305c938"
      },
      "source": [
        "import os\n",
        "import numpy as np\n",
        "import torch\n",
        "print(torch.__version__)"
      ],
      "execution_count": null,
      "outputs": [
        {
          "output_type": "stream",
          "text": [
            "1.5.1+cu101\n"
          ],
          "name": "stdout"
        }
      ]
    },
    {
      "cell_type": "code",
      "metadata": {
        "id": "fNGdshY_12WF",
        "colab_type": "code",
        "colab": {}
      },
      "source": [
        "#simplify line seperator\n",
        "sep = lambda : print('-'*20)"
      ],
      "execution_count": null,
      "outputs": []
    },
    {
      "cell_type": "code",
      "metadata": {
        "id": "eklxQSEu0enA",
        "colab_type": "code",
        "colab": {
          "base_uri": "https://localhost:8080/",
          "height": 153
        },
        "outputId": "a1dc88c5-5225-46b0-e18b-d6a07b33dc36"
      },
      "source": [
        "#%% simple tensors and randoms\n",
        "np_ones = np.ones( (2,2) )\n",
        "print(np_ones)\n",
        "\n",
        "torch_ones = torch.ones( (2,2) )\n",
        "print(torch_ones)\n",
        "\n",
        "sep()\n",
        "\n",
        "np_rand = np.random.rand(2, 2)\n",
        "print(np_rand)\n",
        "\n",
        "torch_rand = torch.rand(2, 2)\n",
        "print(torch_rand)"
      ],
      "execution_count": null,
      "outputs": [
        {
          "output_type": "stream",
          "text": [
            "[[1. 1.]\n",
            " [1. 1.]]\n",
            "tensor([[1., 1.],\n",
            "        [1., 1.]])\n",
            "[[0.73720702 0.60587605]\n",
            " [0.13538413 0.15457905]]\n",
            "tensor([[0.1209, 0.8735],\n",
            "        [0.8445, 0.0647]])\n"
          ],
          "name": "stdout"
        }
      ]
    },
    {
      "cell_type": "code",
      "metadata": {
        "id": "eod40hGH056j",
        "colab_type": "code",
        "colab": {
          "base_uri": "https://localhost:8080/",
          "height": 102
        },
        "outputId": "4b4f4084-3b05-4c72-e667-d872843b6afc"
      },
      "source": [
        "#%% numpy bridge. we can transfer values from numpy to torch by '.from_numpy()'\n",
        "print('type of np_ones', type(np_ones))\n",
        "torch_tensor = torch.from_numpy(np_ones)\n",
        "print('type of torch_tensor: ', type(torch_tensor))\n",
        "\n",
        "sep()\n",
        "# Data types matter: intentional error\n",
        "np_array_new = np.ones((2, 2), dtype=np.int8)\n",
        "print(np_array_new.dtype)\n",
        "torch_arrray_int8 = torch.from_numpy(np_array_new)\n",
        "print(torch_arrray_int8.type()) "
      ],
      "execution_count": null,
      "outputs": [
        {
          "output_type": "stream",
          "text": [
            "type of np_ones <class 'numpy.ndarray'>\n",
            "type of torch_tensor:  <class 'torch.Tensor'>\n",
            "--------------------\n",
            "int8\n",
            "torch.CharTensor\n"
          ],
          "name": "stdout"
        }
      ]
    },
    {
      "cell_type": "code",
      "metadata": {
        "id": "CQE35pV_2keJ",
        "colab_type": "code",
        "colab": {
          "base_uri": "https://localhost:8080/",
          "height": 102
        },
        "outputId": "23879d53-55ac-4adc-8181-2e5caaa8b075"
      },
      "source": [
        "#%% seed\n",
        "np.random.seed(0)\n",
        "m_np = np.random.rand(2, 2)\n",
        "print(m_np)\n",
        "\n",
        "sep()\n",
        "\n",
        "# Torch Seed\n",
        "torch.manual_seed(0)\n",
        "m_tr = torch.rand(2, 2)\n",
        "print(m_tr)\n",
        "\n",
        "# When you conduct deep learning experiments, \n",
        "# typically you want to use GPUs to accelerate your computations and fixing seed \n",
        "# for tensors on GPUs is different from CPUs as we have done above.\n",
        "if torch.cuda.is_available():\n",
        "    print('seed set for cuda')\n",
        "    torch.cuda.manual_seed_all(0)\n"
      ],
      "execution_count": null,
      "outputs": [
        {
          "output_type": "stream",
          "text": [
            "[[0.5488135  0.71518937]\n",
            " [0.60276338 0.54488318]]\n",
            "--------------------\n",
            "tensor([[0.4963, 0.7682],\n",
            "        [0.0885, 0.1320]])\n"
          ],
          "name": "stdout"
        }
      ]
    },
    {
      "cell_type": "code",
      "metadata": {
        "id": "T7DvCHwu4hHO",
        "colab_type": "code",
        "colab": {
          "base_uri": "https://localhost:8080/",
          "height": 170
        },
        "outputId": "eaef4d32-00ab-403c-9d7c-c346452f2c26"
      },
      "source": [
        "#%% torch datatypes\n",
        "np_array_new = np.ones((2, 2), dtype=np.int32)\n",
        "print( torch.from_numpy(np_array_new) )\n",
        "\n",
        "np_array_new = np.ones((2, 2), dtype=np.uint8)\n",
        "print( torch.from_numpy(np_array_new) )\n",
        "\n",
        "np_array_new = np.ones((2, 2), dtype=np.float64)\n",
        "print( torch.from_numpy(np_array_new) )\n",
        "\n",
        "sep()\n",
        "torch_tensor = torch.ones(2, 2)\n",
        "print(type(torch_tensor))\n",
        "torch_to_numpy = torch_tensor.numpy()\n",
        "print( type(torch_to_numpy) )"
      ],
      "execution_count": null,
      "outputs": [
        {
          "output_type": "stream",
          "text": [
            "tensor([[1, 1],\n",
            "        [1, 1]], dtype=torch.int32)\n",
            "tensor([[1, 1],\n",
            "        [1, 1]], dtype=torch.uint8)\n",
            "tensor([[1., 1.],\n",
            "        [1., 1.]], dtype=torch.float64)\n",
            "--------------------\n",
            "<class 'torch.Tensor'>\n",
            "<class 'numpy.ndarray'>\n"
          ],
          "name": "stdout"
        }
      ]
    },
    {
      "cell_type": "code",
      "metadata": {
        "id": "MidHBPeu5NMF",
        "colab_type": "code",
        "colab": {
          "base_uri": "https://localhost:8080/",
          "height": 68
        },
        "outputId": "9d34942c-5e9a-493d-dec2-6bd79b9eaeac"
      },
      "source": [
        "#%% device\n",
        "# CPU\n",
        "tensor_cpu = torch.ones(2, 2)\n",
        "\n",
        "device = torch.device(\"cuda:0\" if torch.cuda.is_available() else \"cpu\")\n",
        "print(device)\n",
        "\n",
        "tensor_cpu.to(device)\n",
        "tensor_cpu.cpu()"
      ],
      "execution_count": null,
      "outputs": [
        {
          "output_type": "stream",
          "text": [
            "cpu\n"
          ],
          "name": "stdout"
        },
        {
          "output_type": "execute_result",
          "data": {
            "text/plain": [
              "tensor([[1., 1.],\n",
              "        [1., 1.]])"
            ]
          },
          "metadata": {
            "tags": []
          },
          "execution_count": 26
        }
      ]
    },
    {
      "cell_type": "markdown",
      "metadata": {
        "id": "LSzZWLLC-ygR",
        "colab_type": "text"
      },
      "source": [
        "We can resize the tensor with 'view()' method. view should preserve dimensions"
      ]
    },
    {
      "cell_type": "code",
      "metadata": {
        "id": "nyHRe9YFz261",
        "colab_type": "code",
        "colab": {
          "base_uri": "https://localhost:8080/",
          "height": 119
        },
        "outputId": "bb3809d4-e4ec-42b9-eb6e-d938b6817079"
      },
      "source": [
        "#%% resize tensor\n",
        "a = torch.ones(2, 2)\n",
        "print('a is: ', a)\n",
        "print('a size: ', a.size())\n",
        "\n",
        "sep()\n",
        "\n",
        "b = a.view(4) # view(3) would give error\n",
        "print(b)\n",
        "\n",
        "print(a.view(4).size())"
      ],
      "execution_count": null,
      "outputs": [
        {
          "output_type": "stream",
          "text": [
            "a is:  tensor([[1., 1.],\n",
            "        [1., 1.]])\n",
            "a size:  torch.Size([2, 2])\n",
            "--------------------\n",
            "tensor([1., 1., 1., 1.])\n",
            "torch.Size([4])\n"
          ],
          "name": "stdout"
        }
      ]
    },
    {
      "cell_type": "code",
      "metadata": {
        "id": "AqwM359H97z6",
        "colab_type": "code",
        "colab": {}
      },
      "source": [
        ""
      ],
      "execution_count": null,
      "outputs": []
    }
  ]
}